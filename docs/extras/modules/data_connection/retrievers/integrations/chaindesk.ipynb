{
 "cells": [
  {
   "cell_type": "markdown",
   "id": "9fc6205b",
   "metadata": {},
   "source": [
    "# Chaindesk\n",
    "\n",
    ">[Chaindesk platform](https://docs.chaindesk.ai/introduction) brings data from anywhere (Datsources: Text, PDF, Word, PowerPpoint, Excel, Notion, Airtable, Google Sheets, etc..) into Datastores (container of multiple Datasources).\n",
    "Then your Datastores can be connected to ChatGPT via Plugins or any other Large Langue Model (LLM) via the `Chaindesk API`.\n",
    "\n",
    "This notebook shows how to use [Chaindesk's](https://www.chaindesk.ai/) retriever.\n",
    "\n",
    "First, you will need to sign up for Chaindesk, create a datastore, add some data and get your datastore api endpoint url. You need the [API Key](https://docs.chaindesk.ai/api-reference/authentication)."
   ]
  },
  {
   "cell_type": "code",
   "execution_count": null,
   "id": "3697b9fd",
   "metadata": {},
   "outputs": [],
   "source": []
  },
  {
   "cell_type": "markdown",
   "id": "944e172b",
   "metadata": {},
   "source": [
    "## Query\n",
    "\n",
    "Now that our index is set up, we can set up a retriever and start querying it."
   ]
  },
  {
   "cell_type": "code",
   "execution_count": 2,
   "id": "d0e6f506",
   "metadata": {
    "tags": []
   },
   "outputs": [
    {
     "ename": "ImportError",
     "evalue": "cannot import name 'ChaindeskRetriever' from 'langchain.retrievers' (/Users/chenketing/miniconda3/envs/dbgpt_env/lib/python3.10/site-packages/langchain/retrievers/__init__.py)",
     "output_type": "error",
     "traceback": [
      "\u001b[0;31m---------------------------------------------------------------------------\u001b[0m",
      "\u001b[0;31mImportError\u001b[0m                               Traceback (most recent call last)",
      "Cell \u001b[0;32mIn[2], line 1\u001b[0m\n\u001b[0;32m----> 1\u001b[0m \u001b[38;5;28;01mfrom\u001b[39;00m \u001b[38;5;21;01mlangchain\u001b[39;00m\u001b[38;5;21;01m.\u001b[39;00m\u001b[38;5;21;01mretrievers\u001b[39;00m \u001b[38;5;28;01mimport\u001b[39;00m ChaindeskRetriever\n",
      "\u001b[0;31mImportError\u001b[0m: cannot import name 'ChaindeskRetriever' from 'langchain.retrievers' (/Users/chenketing/miniconda3/envs/dbgpt_env/lib/python3.10/site-packages/langchain/retrievers/__init__.py)"
     ]
    }
   ],
   "source": [
    "from langchain.retrievers import ChaindeskRetriever"
   ]
  },
  {
   "cell_type": "code",
   "execution_count": 1,
   "id": "f381f642",
   "metadata": {
    "tags": []
   },
   "outputs": [
    {
     "ename": "NameError",
     "evalue": "name 'ChaindeskRetriever' is not defined",
     "output_type": "error",
     "traceback": [
      "\u001b[0;31m---------------------------------------------------------------------------\u001b[0m",
      "\u001b[0;31mNameError\u001b[0m                                 Traceback (most recent call last)",
      "Cell \u001b[0;32mIn[1], line 1\u001b[0m\n\u001b[0;32m----> 1\u001b[0m retriever \u001b[38;5;241m=\u001b[39m \u001b[43mChaindeskRetriever\u001b[49m(\n\u001b[1;32m      2\u001b[0m     datastore_url\u001b[38;5;241m=\u001b[39m\u001b[38;5;124m\"\u001b[39m\u001b[38;5;124mhttps://clg1xg2h80000l708dymr0fxc.chaindesk.ai/query\u001b[39m\u001b[38;5;124m\"\u001b[39m,\n\u001b[1;32m      3\u001b[0m     \u001b[38;5;66;03m# api_key=\"CHAINDESK_API_KEY\", # optional if datastore is public\u001b[39;00m\n\u001b[1;32m      4\u001b[0m     \u001b[38;5;66;03m# top_k=10 # optional\u001b[39;00m\n\u001b[1;32m      5\u001b[0m )\n",
      "\u001b[0;31mNameError\u001b[0m: name 'ChaindeskRetriever' is not defined"
     ]
    }
   ],
   "source": [
    "retriever = ChaindeskRetriever(\n",
    "    datastore_url=\"https://clg1xg2h80000l708dymr0fxc.chaindesk.ai/query\",\n",
    "    # api_key=\"CHAINDESK_API_KEY\", # optional if datastore is public\n",
    "    # top_k=10 # optional\n",
    ")"
   ]
  },
  {
   "cell_type": "code",
   "execution_count": null,
   "id": "fa82129d",
   "metadata": {},
   "outputs": [],
   "source": []
  }
 ],
 "metadata": {
  "kernelspec": {
   "display_name": "Python 3 (ipykernel)",
   "language": "python",
   "name": "python3"
  },
  "language_info": {
   "codemirror_mode": {
    "name": "ipython",
    "version": 3
   },
   "file_extension": ".py",
   "mimetype": "text/x-python",
   "name": "python",
   "nbconvert_exporter": "python",
   "pygments_lexer": "ipython3",
   "version": "3.10.11"
  }
 },
 "nbformat": 4,
 "nbformat_minor": 5
}
