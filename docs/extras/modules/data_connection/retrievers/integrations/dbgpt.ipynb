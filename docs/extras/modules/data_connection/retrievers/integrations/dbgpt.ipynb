{
 "cells": [
  {
   "cell_type": "markdown",
   "id": "9fc6205b",
   "metadata": {},
   "source": [
    "# DB-GPT\n",
    ">[DB-GPT](https://github.com/csunny/DB-GPT) is an experimental open-source project that uses localized GPT large models to interact with your data and environment. With this solution, you can be assured that there is no risk of data leakage, and your data is 100% private and secure.Our vision is to make it easier and more convenient to build applications around databases and llm.\n",
    "\n",
    "This notebook shows how to use DB-GPT retriever.\n",
    "\n",
    "First, you will need to pip install db-gpt package, pip install -i https://pypi.org/simple/ db-gpt==0.3.0\n"
   ]
  },
  {
   "cell_type": "markdown",
   "id": "944e172b",
   "metadata": {},
   "source": [
    "## Query from DBGPTRetriever\n",
    "\n",
    "we can set up a retriever and start embedding docuemnt and query it."
   ]
  },
  {
   "cell_type": "code",
   "execution_count": 51,
   "id": "d0e6f506",
   "metadata": {
    "tags": []
   },
   "outputs": [],
   "source": [
    "from pilot import EmbeddingEngine,KnowledgeType,SourceEmbedding"
   ]
  },
  {
   "cell_type": "code",
   "execution_count": null,
   "id": "5abeeb28",
   "metadata": {},
   "outputs": [],
   "source": [
    "    embedding_model_path = \"your_embedding_model_path\"\n",
    "    vector_store_config = {\n",
    "        \"vector_store_type\": \"Chroma\",\n",
    "        \"vector_store_name\": \"dbgpt_retriver\",\n",
    "        \"chroma_persist_path\": \"your_persist_dir\",\n",
    "    }\n",
    "    # if you have no test document embedding data, you can use db-gpt embedding engine api to embedding some test document\n",
    "    raw_text = \"\"\"\n",
    "        This is a document about the DB-GPT,\n",
    "        is an experimental open-source project that uses localized GPT large models to interact with your data and environment. \n",
    "        With this solution, you can be assured that there is no risk of data leakage, and your data is 100% private and secure.\n",
    "        Our vision is to make it easier and more convenient to build applications around databases and llm.\n",
    "    \"\"\"\n",
    "    embedding_engine = EmbeddingEngine(knowledge_type=KnowledgeType.TEXT.value,\n",
    "                    knowledge_source=raw_text,\n",
    "                    model_name=embedding_model_path,\n",
    "                    vector_store_config=vector_store_config)\n",
    "    embedding_engine.knowledge_embedding()\n",
    "    retriever = DBGPTRetriever(\n",
    "        embedding_model_path=embedding_model_path, \n",
    "        vector_store_config=vector_store_config\n",
    "    )\n",
    "    docs = retriever.get_relevant_documents(\"introduce the DB-GPT\", 1)"
   ]
  },
  {
   "cell_type": "code",
   "execution_count": 56,
   "id": "d6390959",
   "metadata": {},
   "outputs": [
    {
     "data": {
      "text/plain": [
       "[Document(page_content='    This is a document about the DB-GPT,    is an experimental open-source project that uses localized GPT large models to interact with your data and environment.     With this solution, you can be assured that there is no risk of data leakage, and your data is 100% private and secure.    Our vision is to make it easier and more convenient to build applications around databases and llm.', metadata={'source': 'db_summary'})]"
      ]
     },
     "execution_count": 56,
     "metadata": {},
     "output_type": "execute_result"
    }
   ],
   "source": [
    "docs"
   ]
  },
  {
   "cell_type": "code",
   "execution_count": null,
   "id": "d6a1277c",
   "metadata": {},
   "outputs": [],
   "source": []
  }
 ],
 "metadata": {
  "kernelspec": {
   "display_name": "Python 3 (ipykernel)",
   "language": "python",
   "name": "python3"
  },
  "language_info": {
   "codemirror_mode": {
    "name": "ipython",
    "version": 3
   },
   "file_extension": ".py",
   "mimetype": "text/x-python",
   "name": "python",
   "nbconvert_exporter": "python",
   "pygments_lexer": "ipython3",
   "version": "3.10.11"
  }
 },
 "nbformat": 4,
 "nbformat_minor": 5
}
